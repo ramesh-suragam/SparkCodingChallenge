{
 "cells": [
  {
   "cell_type": "code",
   "execution_count": 1,
   "metadata": {},
   "outputs": [],
   "source": [
    "# Importing libraries\n",
    "\n",
    "import pyspark\n",
    "from pyspark.sql import SparkSession\n",
    "from pyspark import SparkFiles\n",
    "from pyspark.sql.types import StructType,StructField,StringType,IntegerType\n",
    "from pyspark.sql.types import ArrayType, DoubleType, BooleanType\n",
    "from pyspark.sql.functions import col,array_contains"
   ]
  },
  {
   "cell_type": "code",
   "execution_count": 2,
   "metadata": {},
   "outputs": [],
   "source": [
    "# Creating spark session\n",
    "\n",
    "spark = SparkSession.builder.appName('SparkCodingChallenge').getOrCreate()"
   ]
  },
  {
   "cell_type": "code",
   "execution_count": 15,
   "metadata": {},
   "outputs": [],
   "source": [
    "# Loading the data into Spark from the URL\n",
    "\n",
    "url = \"https://raw.githubusercontent.com/stedy/Machine-Learning-with-R-datasets/master/groceries.csv\"\n",
    "\n",
    "spark.sparkContext.addFile(url)\n",
    "\n",
    "df = spark.read.csv(SparkFiles.get(\"groceries.csv\"))"
   ]
  },
  {
   "cell_type": "code",
   "execution_count": 16,
   "metadata": {},
   "outputs": [
    {
     "data": {
      "text/plain": [
       "[Row(_c0='citrus fruit', _c1='semi-finished bread', _c2='margarine', _c3='ready soups'),\n",
       " Row(_c0='tropical fruit', _c1='yogurt', _c2='coffee', _c3=None),\n",
       " Row(_c0='whole milk', _c1=None, _c2=None, _c3=None),\n",
       " Row(_c0='pip fruit', _c1='yogurt', _c2='cream cheese ', _c3='meat spreads'),\n",
       " Row(_c0='other vegetables', _c1='whole milk', _c2='condensed milk', _c3='long life bakery product')]"
      ]
     },
     "execution_count": 16,
     "metadata": {},
     "output_type": "execute_result"
    }
   ],
   "source": [
    "df.take(5)"
   ]
  },
  {
   "cell_type": "code",
   "execution_count": 17,
   "metadata": {},
   "outputs": [
    {
     "data": {
      "text/plain": [
       "[Row(_c0='citrus fruit', _c1='semi-finished bread', _c2='margarine', _c3='ready soups'),\n",
       " Row(_c0='tropical fruit', _c1='yogurt', _c2='coffee', _c3=None),\n",
       " Row(_c0='whole milk', _c1=None, _c2=None, _c3=None),\n",
       " Row(_c0='pip fruit', _c1='yogurt', _c2='cream cheese ', _c3='meat spreads'),\n",
       " Row(_c0='other vegetables', _c1='whole milk', _c2='condensed milk', _c3='long life bakery product')]"
      ]
     },
     "execution_count": 17,
     "metadata": {},
     "output_type": "execute_result"
    }
   ],
   "source": [
    "# Checking the data\n",
    "\n",
    "df.head(5)"
   ]
  },
  {
   "cell_type": "code",
   "execution_count": null,
   "metadata": {},
   "outputs": [],
   "source": []
  }
 ],
 "metadata": {
  "kernelspec": {
   "display_name": "Python 3",
   "language": "python",
   "name": "python3"
  },
  "language_info": {
   "codemirror_mode": {
    "name": "ipython",
    "version": 3
   },
   "file_extension": ".py",
   "mimetype": "text/x-python",
   "name": "python",
   "nbconvert_exporter": "python",
   "pygments_lexer": "ipython3",
   "version": "3.7.4"
  }
 },
 "nbformat": 4,
 "nbformat_minor": 2
}
